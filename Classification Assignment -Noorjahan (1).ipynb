{
 "cells": [
  {
   "cell_type": "code",
   "execution_count": 2,
   "id": "620e8f45",
   "metadata": {},
   "outputs": [],
   "source": [
    "import numpy as np\n",
    "import pandas as pd\n",
    "import seaborn as sns\n",
    "import matplotlib.pyplot as plt"
   ]
  },
  {
   "cell_type": "markdown",
   "id": "8f055ea8",
   "metadata": {},
   "source": [
    "# 1. Read the dataset to python environment"
   ]
  },
  {
   "cell_type": "code",
   "execution_count": 3,
   "id": "e9eb740d",
   "metadata": {},
   "outputs": [],
   "source": [
    "data=pd.read_excel('C:/Users/USER/Desktop/iris.xls')"
   ]
  },
  {
   "cell_type": "code",
   "execution_count": 5,
   "id": "ddbad29c",
   "metadata": {},
   "outputs": [
    {
     "data": {
      "text/html": [
       "<div>\n",
       "<style scoped>\n",
       "    .dataframe tbody tr th:only-of-type {\n",
       "        vertical-align: middle;\n",
       "    }\n",
       "\n",
       "    .dataframe tbody tr th {\n",
       "        vertical-align: top;\n",
       "    }\n",
       "\n",
       "    .dataframe thead th {\n",
       "        text-align: right;\n",
       "    }\n",
       "</style>\n",
       "<table border=\"1\" class=\"dataframe\">\n",
       "  <thead>\n",
       "    <tr style=\"text-align: right;\">\n",
       "      <th></th>\n",
       "      <th>SL</th>\n",
       "      <th>SW</th>\n",
       "      <th>PL</th>\n",
       "      <th>PW</th>\n",
       "      <th>Classification</th>\n",
       "    </tr>\n",
       "  </thead>\n",
       "  <tbody>\n",
       "    <tr>\n",
       "      <th>0</th>\n",
       "      <td>5.1</td>\n",
       "      <td>3.5</td>\n",
       "      <td>1.4</td>\n",
       "      <td>0.2</td>\n",
       "      <td>Iris-setosa</td>\n",
       "    </tr>\n",
       "    <tr>\n",
       "      <th>1</th>\n",
       "      <td>4.9</td>\n",
       "      <td>3.0</td>\n",
       "      <td>1.4</td>\n",
       "      <td>0.2</td>\n",
       "      <td>Iris-setosa</td>\n",
       "    </tr>\n",
       "    <tr>\n",
       "      <th>2</th>\n",
       "      <td>NaN</td>\n",
       "      <td>3.2</td>\n",
       "      <td>1.3</td>\n",
       "      <td>0.2</td>\n",
       "      <td>Iris-setosa</td>\n",
       "    </tr>\n",
       "    <tr>\n",
       "      <th>3</th>\n",
       "      <td>4.6</td>\n",
       "      <td>3.1</td>\n",
       "      <td>1.5</td>\n",
       "      <td>0.2</td>\n",
       "      <td>Iris-setosa</td>\n",
       "    </tr>\n",
       "    <tr>\n",
       "      <th>4</th>\n",
       "      <td>5.0</td>\n",
       "      <td>3.6</td>\n",
       "      <td>1.4</td>\n",
       "      <td>0.2</td>\n",
       "      <td>Iris-setosa</td>\n",
       "    </tr>\n",
       "  </tbody>\n",
       "</table>\n",
       "</div>"
      ],
      "text/plain": [
       "    SL   SW   PL   PW Classification\n",
       "0  5.1  3.5  1.4  0.2    Iris-setosa\n",
       "1  4.9  3.0  1.4  0.2    Iris-setosa\n",
       "2  NaN  3.2  1.3  0.2    Iris-setosa\n",
       "3  4.6  3.1  1.5  0.2    Iris-setosa\n",
       "4  5.0  3.6  1.4  0.2    Iris-setosa"
      ]
     },
     "execution_count": 5,
     "metadata": {},
     "output_type": "execute_result"
    }
   ],
   "source": [
    "data.head()"
   ]
  },
  {
   "cell_type": "code",
   "execution_count": 6,
   "id": "d55e5117",
   "metadata": {},
   "outputs": [
    {
     "data": {
      "text/plain": [
       "(150, 5)"
      ]
     },
     "execution_count": 6,
     "metadata": {},
     "output_type": "execute_result"
    }
   ],
   "source": [
    "data.shape"
   ]
  },
  {
   "cell_type": "code",
   "execution_count": 9,
   "id": "b1b5fbdd",
   "metadata": {},
   "outputs": [
    {
     "name": "stdout",
     "output_type": "stream",
     "text": [
      "<class 'pandas.core.frame.DataFrame'>\n",
      "RangeIndex: 150 entries, 0 to 149\n",
      "Data columns (total 5 columns):\n",
      " #   Column          Non-Null Count  Dtype  \n",
      "---  ------          --------------  -----  \n",
      " 0   SL              143 non-null    float64\n",
      " 1   SW              144 non-null    float64\n",
      " 2   PL              144 non-null    float64\n",
      " 3   PW              150 non-null    float64\n",
      " 4   Classification  150 non-null    object \n",
      "dtypes: float64(4), object(1)\n",
      "memory usage: 6.0+ KB\n"
     ]
    }
   ],
   "source": [
    "data.info()"
   ]
  },
  {
   "cell_type": "markdown",
   "id": "2ca5a98a",
   "metadata": {},
   "source": [
    "# 2. Do the necessary pre-processing steps"
   ]
  },
  {
   "cell_type": "code",
   "execution_count": 11,
   "id": "1c47d835",
   "metadata": {},
   "outputs": [
    {
     "data": {
      "text/plain": [
       "SL                7\n",
       "SW                6\n",
       "PL                6\n",
       "PW                0\n",
       "Classification    0\n",
       "dtype: int64"
      ]
     },
     "execution_count": 11,
     "metadata": {},
     "output_type": "execute_result"
    }
   ],
   "source": [
    "data.isna().sum() # to check the missing values"
   ]
  },
  {
   "cell_type": "code",
   "execution_count": null,
   "id": "071b0952",
   "metadata": {},
   "outputs": [],
   "source": []
  },
  {
   "cell_type": "code",
   "execution_count": null,
   "id": "0f7dd164",
   "metadata": {},
   "outputs": [],
   "source": [
    "# here we have some missing values in 3 columns( SL,SW,PL),we have several methods to deal the missing values like,drop the rows, replace the values with suitable average etc. but now am going with fillna method"
   ]
  },
  {
   "cell_type": "code",
   "execution_count": 12,
   "id": "90dadb6e",
   "metadata": {},
   "outputs": [],
   "source": [
    "data['SL'].fillna(method='ffill',inplace=True)\n",
    "data['SW'].fillna(method='ffill',inplace=True)\n",
    "data['PL'].fillna(method='ffill',inplace=True)\n",
    "# to fill the missing objects "
   ]
  },
  {
   "cell_type": "code",
   "execution_count": 13,
   "id": "e76c0aa1",
   "metadata": {},
   "outputs": [
    {
     "data": {
      "text/plain": [
       "SL                0\n",
       "SW                0\n",
       "PL                0\n",
       "PW                0\n",
       "Classification    0\n",
       "dtype: int64"
      ]
     },
     "execution_count": 13,
     "metadata": {},
     "output_type": "execute_result"
    }
   ],
   "source": [
    "data.isna().sum()"
   ]
  },
  {
   "cell_type": "code",
   "execution_count": 14,
   "id": "7caf2f7a",
   "metadata": {},
   "outputs": [],
   "source": [
    "# all the missing objects are now filled\n"
   ]
  },
  {
   "cell_type": "code",
   "execution_count": 15,
   "id": "16d04693",
   "metadata": {},
   "outputs": [],
   "source": [
    "# we have encode the column Classification for further calculations,for that am using the label encoding method"
   ]
  },
  {
   "cell_type": "code",
   "execution_count": 16,
   "id": "b355bb9a",
   "metadata": {},
   "outputs": [],
   "source": [
    "from sklearn.preprocessing import LabelEncoder "
   ]
  },
  {
   "cell_type": "code",
   "execution_count": 17,
   "id": "82c3e952",
   "metadata": {},
   "outputs": [],
   "source": [
    "le=LabelEncoder()"
   ]
  },
  {
   "cell_type": "code",
   "execution_count": 28,
   "id": "847d22b2",
   "metadata": {},
   "outputs": [],
   "source": [
    "data['Classification']=le.fit_transform(data['Classification']) # to encode the classification column"
   ]
  },
  {
   "cell_type": "code",
   "execution_count": 29,
   "id": "c8a478f3",
   "metadata": {},
   "outputs": [
    {
     "data": {
      "text/html": [
       "<div>\n",
       "<style scoped>\n",
       "    .dataframe tbody tr th:only-of-type {\n",
       "        vertical-align: middle;\n",
       "    }\n",
       "\n",
       "    .dataframe tbody tr th {\n",
       "        vertical-align: top;\n",
       "    }\n",
       "\n",
       "    .dataframe thead th {\n",
       "        text-align: right;\n",
       "    }\n",
       "</style>\n",
       "<table border=\"1\" class=\"dataframe\">\n",
       "  <thead>\n",
       "    <tr style=\"text-align: right;\">\n",
       "      <th></th>\n",
       "      <th>SL</th>\n",
       "      <th>SW</th>\n",
       "      <th>PL</th>\n",
       "      <th>PW</th>\n",
       "      <th>Classification</th>\n",
       "    </tr>\n",
       "  </thead>\n",
       "  <tbody>\n",
       "    <tr>\n",
       "      <th>0</th>\n",
       "      <td>5.1</td>\n",
       "      <td>3.5</td>\n",
       "      <td>1.4</td>\n",
       "      <td>0.2</td>\n",
       "      <td>0</td>\n",
       "    </tr>\n",
       "    <tr>\n",
       "      <th>1</th>\n",
       "      <td>4.9</td>\n",
       "      <td>3.0</td>\n",
       "      <td>1.4</td>\n",
       "      <td>0.2</td>\n",
       "      <td>0</td>\n",
       "    </tr>\n",
       "    <tr>\n",
       "      <th>2</th>\n",
       "      <td>4.9</td>\n",
       "      <td>3.2</td>\n",
       "      <td>1.3</td>\n",
       "      <td>0.2</td>\n",
       "      <td>0</td>\n",
       "    </tr>\n",
       "    <tr>\n",
       "      <th>3</th>\n",
       "      <td>4.6</td>\n",
       "      <td>3.1</td>\n",
       "      <td>1.5</td>\n",
       "      <td>0.2</td>\n",
       "      <td>0</td>\n",
       "    </tr>\n",
       "    <tr>\n",
       "      <th>4</th>\n",
       "      <td>5.0</td>\n",
       "      <td>3.6</td>\n",
       "      <td>1.4</td>\n",
       "      <td>0.2</td>\n",
       "      <td>0</td>\n",
       "    </tr>\n",
       "  </tbody>\n",
       "</table>\n",
       "</div>"
      ],
      "text/plain": [
       "    SL   SW   PL   PW  Classification\n",
       "0  5.1  3.5  1.4  0.2               0\n",
       "1  4.9  3.0  1.4  0.2               0\n",
       "2  4.9  3.2  1.3  0.2               0\n",
       "3  4.6  3.1  1.5  0.2               0\n",
       "4  5.0  3.6  1.4  0.2               0"
      ]
     },
     "execution_count": 29,
     "metadata": {},
     "output_type": "execute_result"
    }
   ],
   "source": [
    "data.head()"
   ]
  },
  {
   "cell_type": "code",
   "execution_count": 30,
   "id": "88b53eae",
   "metadata": {},
   "outputs": [
    {
     "data": {
      "text/html": [
       "<div>\n",
       "<style scoped>\n",
       "    .dataframe tbody tr th:only-of-type {\n",
       "        vertical-align: middle;\n",
       "    }\n",
       "\n",
       "    .dataframe tbody tr th {\n",
       "        vertical-align: top;\n",
       "    }\n",
       "\n",
       "    .dataframe thead th {\n",
       "        text-align: right;\n",
       "    }\n",
       "</style>\n",
       "<table border=\"1\" class=\"dataframe\">\n",
       "  <thead>\n",
       "    <tr style=\"text-align: right;\">\n",
       "      <th></th>\n",
       "      <th>SL</th>\n",
       "      <th>SW</th>\n",
       "      <th>PL</th>\n",
       "      <th>PW</th>\n",
       "      <th>Classification</th>\n",
       "    </tr>\n",
       "  </thead>\n",
       "  <tbody>\n",
       "    <tr>\n",
       "      <th>SL</th>\n",
       "      <td>1.000000</td>\n",
       "      <td>-0.141941</td>\n",
       "      <td>0.866358</td>\n",
       "      <td>0.817304</td>\n",
       "      <td>0.794873</td>\n",
       "    </tr>\n",
       "    <tr>\n",
       "      <th>SW</th>\n",
       "      <td>-0.141941</td>\n",
       "      <td>1.000000</td>\n",
       "      <td>-0.419379</td>\n",
       "      <td>-0.355965</td>\n",
       "      <td>-0.420520</td>\n",
       "    </tr>\n",
       "    <tr>\n",
       "      <th>PL</th>\n",
       "      <td>0.866358</td>\n",
       "      <td>-0.419379</td>\n",
       "      <td>1.000000</td>\n",
       "      <td>0.961409</td>\n",
       "      <td>0.948970</td>\n",
       "    </tr>\n",
       "    <tr>\n",
       "      <th>PW</th>\n",
       "      <td>0.817304</td>\n",
       "      <td>-0.355965</td>\n",
       "      <td>0.961409</td>\n",
       "      <td>1.000000</td>\n",
       "      <td>0.956464</td>\n",
       "    </tr>\n",
       "    <tr>\n",
       "      <th>Classification</th>\n",
       "      <td>0.794873</td>\n",
       "      <td>-0.420520</td>\n",
       "      <td>0.948970</td>\n",
       "      <td>0.956464</td>\n",
       "      <td>1.000000</td>\n",
       "    </tr>\n",
       "  </tbody>\n",
       "</table>\n",
       "</div>"
      ],
      "text/plain": [
       "                      SL        SW        PL        PW  Classification\n",
       "SL              1.000000 -0.141941  0.866358  0.817304        0.794873\n",
       "SW             -0.141941  1.000000 -0.419379 -0.355965       -0.420520\n",
       "PL              0.866358 -0.419379  1.000000  0.961409        0.948970\n",
       "PW              0.817304 -0.355965  0.961409  1.000000        0.956464\n",
       "Classification  0.794873 -0.420520  0.948970  0.956464        1.000000"
      ]
     },
     "execution_count": 30,
     "metadata": {},
     "output_type": "execute_result"
    }
   ],
   "source": [
    "data.corr()#checking for multicollinearity"
   ]
  },
  {
   "cell_type": "code",
   "execution_count": 32,
   "id": "89480be6",
   "metadata": {},
   "outputs": [
    {
     "data": {
      "text/plain": [
       "<AxesSubplot:>"
      ]
     },
     "execution_count": 32,
     "metadata": {},
     "output_type": "execute_result"
    },
    {
     "data": {
      "image/png": "[encoded data removed]",
      "text/plain": [
       "<Figure size 640x480 with 2 Axes>"
      ]
     },
     "metadata": {},
     "output_type": "display_data"
    }
   ],
   "source": [
    "sns.heatmap(data.corr(),annot=True)"
   ]
  },
  {
   "cell_type": "code",
   "execution_count": 33,
   "id": "73c700ed",
   "metadata": {},
   "outputs": [],
   "source": [
    "# we can see that there is a high positive ccorrelation between petel length and width ;petel length and sepel length;petel width and sepel length; PW,PL,SL with classification"
   ]
  },
  {
   "cell_type": "markdown",
   "id": "1295fa7d",
   "metadata": {},
   "source": [
    "# 3. Find out which classification model gives the best result\n"
   ]
  },
  {
   "cell_type": "code",
   "execution_count": null,
   "id": "2c129227",
   "metadata": {},
   "outputs": [],
   "source": []
  },
  {
   "cell_type": "markdown",
   "id": "e958ac8a",
   "metadata": {},
   "source": [
    "#1)Logistic Regression model"
   ]
  },
  {
   "cell_type": "code",
   "execution_count": 35,
   "id": "1fdcd240",
   "metadata": {},
   "outputs": [],
   "source": [
    "y=data['Classification']#target\n",
    "x=data.drop('Classification',axis=1)#x contains features"
   ]
  },
  {
   "cell_type": "code",
   "execution_count": 188,
   "id": "84bc90eb",
   "metadata": {},
   "outputs": [],
   "source": [
    "from sklearn.model_selection import train_test_split\n",
    "x_train,x_test,y_train,y_test=train_test_split(x,y,test_size=0.25,random_state=42)\n",
    "from sklearn.linear_model import LogisticRegression#Logistic Regression is present in linear_model\n",
    "lr=LogisticRegression()#creating an instance"
   ]
  },
  {
   "cell_type": "code",
   "execution_count": 189,
   "id": "26cc0e70",
   "metadata": {},
   "outputs": [
    {
     "name": "stderr",
     "output_type": "stream",
     "text": [
      "C:\\Users\\USER\\anaconda3\\lib\\site-packages\\sklearn\\linear_model\\_logistic.py:814: ConvergenceWarning: lbfgs failed to converge (status=1):\n",
      "STOP: TOTAL NO. of ITERATIONS REACHED LIMIT.\n",
      "\n",
      "Increase the number of iterations (max_iter) or scale the data as shown in:\n",
      "    https://scikit-learn.org/stable/modules/preprocessing.html\n",
      "Please also refer to the documentation for alternative solver options:\n",
      "    https://scikit-learn.org/stable/modules/linear_model.html#logistic-regression\n",
      "  n_iter_i = _check_optimize_result(\n"
     ]
    }
   ],
   "source": [
    "model=lr.fit(x_train,y_train)# model creation"
   ]
  },
  {
   "cell_type": "code",
   "execution_count": 190,
   "id": "9a9569f0",
   "metadata": {},
   "outputs": [],
   "source": [
    "y_pred=model.predict(x_test)#y predictions "
   ]
  },
  {
   "cell_type": "code",
   "execution_count": 191,
   "id": "f0d26d55",
   "metadata": {},
   "outputs": [],
   "source": [
    "# model validation checking \n",
    "from sklearn.metrics import confusion_matrix,precision_score,recall_score,f1_score,accuracy_score\n"
   ]
  },
  {
   "cell_type": "code",
   "execution_count": 192,
   "id": "b6143b1d",
   "metadata": {},
   "outputs": [
    {
     "name": "stdout",
     "output_type": "stream",
     "text": [
      "[[15  0  0]\n",
      " [ 0 11  0]\n",
      " [ 0  0 12]]\n"
     ]
    }
   ],
   "source": [
    "print(confusion_matrix(y_test,y_pred))"
   ]
  },
  {
   "cell_type": "code",
   "execution_count": 193,
   "id": "a98d1329",
   "metadata": {},
   "outputs": [
    {
     "name": "stdout",
     "output_type": "stream",
     "text": [
      "1.0\n"
     ]
    }
   ],
   "source": [
    "print(accuracy_score(y_test,y_pred))#accuracy of logistic Regression model"
   ]
  },
  {
   "cell_type": "code",
   "execution_count": null,
   "id": "1111c930",
   "metadata": {},
   "outputs": [],
   "source": []
  },
  {
   "cell_type": "markdown",
   "id": "865c9c97",
   "metadata": {},
   "source": [
    "2)KNN"
   ]
  },
  {
   "cell_type": "code",
   "execution_count": 194,
   "id": "b199806a",
   "metadata": {},
   "outputs": [
    {
     "name": "stderr",
     "output_type": "stream",
     "text": [
      "C:\\Users\\USER\\anaconda3\\lib\\site-packages\\sklearn\\neighbors\\_classification.py:228: FutureWarning: Unlike other reduction functions (e.g. `skew`, `kurtosis`), the default behavior of `mode` typically preserves the axis it acts along. In SciPy 1.11.0, this behavior will change: the default value of `keepdims` will become False, the `axis` over which the statistic is taken will be eliminated, and the value None will no longer be accepted. Set `keepdims` to True or False to avoid this warning.\n",
      "  mode, _ = stats.mode(_y[neigh_ind, k], axis=1)\n",
      "C:\\Users\\USER\\anaconda3\\lib\\site-packages\\sklearn\\neighbors\\_classification.py:228: FutureWarning: Unlike other reduction functions (e.g. `skew`, `kurtosis`), the default behavior of `mode` typically preserves the axis it acts along. In SciPy 1.11.0, this behavior will change: the default value of `keepdims` will become False, the `axis` over which the statistic is taken will be eliminated, and the value None will no longer be accepted. Set `keepdims` to True or False to avoid this warning.\n",
      "  mode, _ = stats.mode(_y[neigh_ind, k], axis=1)\n",
      "C:\\Users\\USER\\anaconda3\\lib\\site-packages\\sklearn\\neighbors\\_classification.py:228: FutureWarning: Unlike other reduction functions (e.g. `skew`, `kurtosis`), the default behavior of `mode` typically preserves the axis it acts along. In SciPy 1.11.0, this behavior will change: the default value of `keepdims` will become False, the `axis` over which the statistic is taken will be eliminated, and the value None will no longer be accepted. Set `keepdims` to True or False to avoid this warning.\n",
      "  mode, _ = stats.mode(_y[neigh_ind, k], axis=1)\n",
      "C:\\Users\\USER\\anaconda3\\lib\\site-packages\\sklearn\\neighbors\\_classification.py:228: FutureWarning: Unlike other reduction functions (e.g. `skew`, `kurtosis`), the default behavior of `mode` typically preserves the axis it acts along. In SciPy 1.11.0, this behavior will change: the default value of `keepdims` will become False, the `axis` over which the statistic is taken will be eliminated, and the value None will no longer be accepted. Set `keepdims` to True or False to avoid this warning.\n",
      "  mode, _ = stats.mode(_y[neigh_ind, k], axis=1)\n",
      "C:\\Users\\USER\\anaconda3\\lib\\site-packages\\sklearn\\neighbors\\_classification.py:228: FutureWarning: Unlike other reduction functions (e.g. `skew`, `kurtosis`), the default behavior of `mode` typically preserves the axis it acts along. In SciPy 1.11.0, this behavior will change: the default value of `keepdims` will become False, the `axis` over which the statistic is taken will be eliminated, and the value None will no longer be accepted. Set `keepdims` to True or False to avoid this warning.\n",
      "  mode, _ = stats.mode(_y[neigh_ind, k], axis=1)\n",
      "C:\\Users\\USER\\anaconda3\\lib\\site-packages\\sklearn\\neighbors\\_classification.py:228: FutureWarning: Unlike other reduction functions (e.g. `skew`, `kurtosis`), the default behavior of `mode` typically preserves the axis it acts along. In SciPy 1.11.0, this behavior will change: the default value of `keepdims` will become False, the `axis` over which the statistic is taken will be eliminated, and the value None will no longer be accepted. Set `keepdims` to True or False to avoid this warning.\n",
      "  mode, _ = stats.mode(_y[neigh_ind, k], axis=1)\n",
      "C:\\Users\\USER\\anaconda3\\lib\\site-packages\\sklearn\\neighbors\\_classification.py:228: FutureWarning: Unlike other reduction functions (e.g. `skew`, `kurtosis`), the default behavior of `mode` typically preserves the axis it acts along. In SciPy 1.11.0, this behavior will change: the default value of `keepdims` will become False, the `axis` over which the statistic is taken will be eliminated, and the value None will no longer be accepted. Set `keepdims` to True or False to avoid this warning.\n",
      "  mode, _ = stats.mode(_y[neigh_ind, k], axis=1)\n",
      "C:\\Users\\USER\\anaconda3\\lib\\site-packages\\sklearn\\neighbors\\_classification.py:228: FutureWarning: Unlike other reduction functions (e.g. `skew`, `kurtosis`), the default behavior of `mode` typically preserves the axis it acts along. In SciPy 1.11.0, this behavior will change: the default value of `keepdims` will become False, the `axis` over which the statistic is taken will be eliminated, and the value None will no longer be accepted. Set `keepdims` to True or False to avoid this warning.\n",
      "  mode, _ = stats.mode(_y[neigh_ind, k], axis=1)\n",
      "C:\\Users\\USER\\anaconda3\\lib\\site-packages\\sklearn\\neighbors\\_classification.py:228: FutureWarning: Unlike other reduction functions (e.g. `skew`, `kurtosis`), the default behavior of `mode` typically preserves the axis it acts along. In SciPy 1.11.0, this behavior will change: the default value of `keepdims` will become False, the `axis` over which the statistic is taken will be eliminated, and the value None will no longer be accepted. Set `keepdims` to True or False to avoid this warning.\n",
      "  mode, _ = stats.mode(_y[neigh_ind, k], axis=1)\n",
      "C:\\Users\\USER\\anaconda3\\lib\\site-packages\\sklearn\\neighbors\\_classification.py:228: FutureWarning: Unlike other reduction functions (e.g. `skew`, `kurtosis`), the default behavior of `mode` typically preserves the axis it acts along. In SciPy 1.11.0, this behavior will change: the default value of `keepdims` will become False, the `axis` over which the statistic is taken will be eliminated, and the value None will no longer be accepted. Set `keepdims` to True or False to avoid this warning.\n",
      "  mode, _ = stats.mode(_y[neigh_ind, k], axis=1)\n",
      "C:\\Users\\USER\\anaconda3\\lib\\site-packages\\sklearn\\neighbors\\_classification.py:228: FutureWarning: Unlike other reduction functions (e.g. `skew`, `kurtosis`), the default behavior of `mode` typically preserves the axis it acts along. In SciPy 1.11.0, this behavior will change: the default value of `keepdims` will become False, the `axis` over which the statistic is taken will be eliminated, and the value None will no longer be accepted. Set `keepdims` to True or False to avoid this warning.\n",
      "  mode, _ = stats.mode(_y[neigh_ind, k], axis=1)\n",
      "C:\\Users\\USER\\anaconda3\\lib\\site-packages\\sklearn\\neighbors\\_classification.py:228: FutureWarning: Unlike other reduction functions (e.g. `skew`, `kurtosis`), the default behavior of `mode` typically preserves the axis it acts along. In SciPy 1.11.0, this behavior will change: the default value of `keepdims` will become False, the `axis` over which the statistic is taken will be eliminated, and the value None will no longer be accepted. Set `keepdims` to True or False to avoid this warning.\n",
      "  mode, _ = stats.mode(_y[neigh_ind, k], axis=1)\n"
     ]
    }
   ],
   "source": [
    "#knn\n",
    "from sklearn.neighbors import KNeighborsClassifier\n",
    "metric_k= []#empty list for appending accuracy of model for each k values\n",
    "neighbors = np.arange(3,15)#k value from 3 to 14\n",
    "\n",
    "for k in neighbors:\n",
    "  knn=KNeighborsClassifier(n_neighbors=k)\n",
    "  model2=knn.fit(x_train,y_train)\n",
    "  y_pred_knn=model2.predict(x_test)\n",
    "  acc=accuracy_score(y_test,y_pred_knn)\n",
    "  metric_k.append(acc)#appending accuracy of model for each k values"
   ]
  },
  {
   "cell_type": "code",
   "execution_count": 195,
   "id": "08384111",
   "metadata": {},
   "outputs": [
    {
     "data": {
      "text/plain": [
       "[1.0, 1.0, 1.0, 1.0, 1.0, 1.0, 1.0, 1.0, 1.0, 1.0, 1.0, 1.0]"
      ]
     },
     "execution_count": 195,
     "metadata": {},
     "output_type": "execute_result"
    }
   ],
   "source": [
    "metric_k#accuracy array"
   ]
  },
  {
   "cell_type": "code",
   "execution_count": 196,
   "id": "7067a411",
   "metadata": {},
   "outputs": [
    {
     "data": {
      "image/png": "[encoded data removed]",
      "text/plain": [
       "<Figure size 640x480 with 1 Axes>"
      ]
     },
     "metadata": {},
     "output_type": "display_data"
    }
   ],
   "source": [
    "plt.plot(neighbors,metric_k,'o-')#plotting the accuracy for each k value\n",
    "plt.xlabel('k value')\n",
    "plt.ylabel('accuracy')\n",
    "plt.grid()"
   ]
  },
  {
   "cell_type": "code",
   "execution_count": 197,
   "id": "df196f47",
   "metadata": {},
   "outputs": [
    {
     "name": "stderr",
     "output_type": "stream",
     "text": [
      "C:\\Users\\USER\\anaconda3\\lib\\site-packages\\sklearn\\neighbors\\_classification.py:228: FutureWarning: Unlike other reduction functions (e.g. `skew`, `kurtosis`), the default behavior of `mode` typically preserves the axis it acts along. In SciPy 1.11.0, this behavior will change: the default value of `keepdims` will become False, the `axis` over which the statistic is taken will be eliminated, and the value None will no longer be accepted. Set `keepdims` to True or False to avoid this warning.\n",
      "  mode, _ = stats.mode(_y[neigh_ind, k], axis=1)\n"
     ]
    }
   ],
   "source": [
    "#accuracy is same for all values.so we can  create model using anyvalue.let it be 10\n",
    "knn=KNeighborsClassifier(n_neighbors=10)\n",
    "model2=knn.fit(x_train,y_train)\n",
    "y_pred_knn=model2.predict(x_test)"
   ]
  },
  {
   "cell_type": "code",
   "execution_count": 198,
   "id": "3c207396",
   "metadata": {},
   "outputs": [
    {
     "name": "stdout",
     "output_type": "stream",
     "text": [
      "[[15  0  0]\n",
      " [ 0 11  0]\n",
      " [ 0  0 12]]\n"
     ]
    }
   ],
   "source": [
    "print(confusion_matrix(y_test,y_pred_knn))#confusin matrix is used for checking the accuracy ,precision ,recall etc"
   ]
  },
  {
   "cell_type": "code",
   "execution_count": null,
   "id": "5a130faf",
   "metadata": {},
   "outputs": [],
   "source": []
  },
  {
   "cell_type": "code",
   "execution_count": 199,
   "id": "f0c0c194",
   "metadata": {},
   "outputs": [
    {
     "name": "stdout",
     "output_type": "stream",
     "text": [
      "1.0\n"
     ]
    }
   ],
   "source": [
    "print(accuracy_score(y_test,y_pred_knn))"
   ]
  },
  {
   "cell_type": "code",
   "execution_count": null,
   "id": "4ddd7954",
   "metadata": {},
   "outputs": [],
   "source": []
  },
  {
   "cell_type": "markdown",
   "id": "cd1aac2e",
   "metadata": {},
   "source": [
    "3)SVM"
   ]
  },
  {
   "cell_type": "code",
   "execution_count": 200,
   "id": "58c17f29",
   "metadata": {},
   "outputs": [],
   "source": [
    "from sklearn.svm import SVC#support vector classifier"
   ]
  },
  {
   "cell_type": "markdown",
   "id": "bbf0c1ad",
   "metadata": {},
   "source": [
    "  a)SVM kernel=rbf"
   ]
  },
  {
   "cell_type": "code",
   "execution_count": 201,
   "id": "87f54359",
   "metadata": {},
   "outputs": [],
   "source": [
    "svm_clf=SVC(kernel='rbf')#kernel choosen is rbf(radial basis function),can also use linear,poly ,bt linear takes more time in building model"
   ]
  },
  {
   "cell_type": "code",
   "execution_count": 202,
   "id": "73b3aafc",
   "metadata": {},
   "outputs": [],
   "source": [
    "svm_model=svm_clf.fit(x_train,y_train)#model creation "
   ]
  },
  {
   "cell_type": "code",
   "execution_count": 203,
   "id": "40e10263",
   "metadata": {},
   "outputs": [],
   "source": [
    "y_pred=svm_model.predict(x_test)#y predictions"
   ]
  },
  {
   "cell_type": "code",
   "execution_count": 204,
   "id": "1aeb1e5a",
   "metadata": {},
   "outputs": [
    {
     "data": {
      "text/plain": [
       "array([[15,  0,  0],\n",
       "       [ 0, 11,  0],\n",
       "       [ 0,  0, 12]], dtype=int64)"
      ]
     },
     "execution_count": 204,
     "metadata": {},
     "output_type": "execute_result"
    }
   ],
   "source": [
    "confusion_matrix(y_test,y_pred)#confusion matrix of SVM model with kernel=rbf(test_size=0.25 ie 183*0.25=46 data points)"
   ]
  },
  {
   "cell_type": "code",
   "execution_count": 205,
   "id": "da5c8efd",
   "metadata": {},
   "outputs": [
    {
     "data": {
      "text/plain": [
       "1.0"
      ]
     },
     "execution_count": 205,
     "metadata": {},
     "output_type": "execute_result"
    }
   ],
   "source": [
    "accuracy_score(y_test,y_pred)#accuracy of SVM model  with kernel=rbf"
   ]
  },
  {
   "cell_type": "markdown",
   "id": "c0afeff2",
   "metadata": {},
   "source": [
    "b)SVM kernel=linear"
   ]
  },
  {
   "cell_type": "code",
   "execution_count": 206,
   "id": "8c6d0ec2",
   "metadata": {},
   "outputs": [],
   "source": [
    "svm_clf_linear=SVC(kernel='linear')#kernel choosen is linear"
   ]
  },
  {
   "cell_type": "code",
   "execution_count": 207,
   "id": "ff5ddbd4",
   "metadata": {},
   "outputs": [],
   "source": [
    "svm_model_linear=svm_clf.fit(x_train,y_train)#model creation "
   ]
  },
  {
   "cell_type": "code",
   "execution_count": 208,
   "id": "a9b86bc7",
   "metadata": {},
   "outputs": [],
   "source": [
    "y_pred=svm_model_linear.predict(x_test)#y predictions"
   ]
  },
  {
   "cell_type": "code",
   "execution_count": 209,
   "id": "173ace40",
   "metadata": {},
   "outputs": [
    {
     "data": {
      "text/plain": [
       "array([[15,  0,  0],\n",
       "       [ 0, 11,  0],\n",
       "       [ 0,  0, 12]], dtype=int64)"
      ]
     },
     "execution_count": 209,
     "metadata": {},
     "output_type": "execute_result"
    }
   ],
   "source": [
    "confusion_matrix(y_test,y_pred)##confusion matrix of SVM model with kernel=linear"
   ]
  },
  {
   "cell_type": "code",
   "execution_count": 210,
   "id": "16aebc70",
   "metadata": {},
   "outputs": [
    {
     "data": {
      "text/plain": [
       "1.0"
      ]
     },
     "execution_count": 210,
     "metadata": {},
     "output_type": "execute_result"
    }
   ],
   "source": [
    "accuracy_score(y_test,y_pred)#accuracy of SVM model with kernel=linear"
   ]
  },
  {
   "cell_type": "code",
   "execution_count": null,
   "id": "33b37639",
   "metadata": {},
   "outputs": [],
   "source": []
  },
  {
   "cell_type": "markdown",
   "id": "b9b1a33b",
   "metadata": {},
   "source": [
    "c)SVM kernel=polynomial"
   ]
  },
  {
   "cell_type": "code",
   "execution_count": 211,
   "id": "62435183",
   "metadata": {},
   "outputs": [],
   "source": [
    "svm_clf_linear=SVC(kernel='poly')"
   ]
  },
  {
   "cell_type": "code",
   "execution_count": 212,
   "id": "56edc23c",
   "metadata": {},
   "outputs": [],
   "source": [
    "svm_model_poly=svm_clf.fit(x_train,y_train)"
   ]
  },
  {
   "cell_type": "code",
   "execution_count": 213,
   "id": "a128e48d",
   "metadata": {},
   "outputs": [],
   "source": [
    "y_pred=svm_model_poly.predict(x_test)"
   ]
  },
  {
   "cell_type": "code",
   "execution_count": 214,
   "id": "299d2ef5",
   "metadata": {},
   "outputs": [
    {
     "data": {
      "text/plain": [
       "array([[15,  0,  0],\n",
       "       [ 0, 11,  0],\n",
       "       [ 0,  0, 12]], dtype=int64)"
      ]
     },
     "execution_count": 214,
     "metadata": {},
     "output_type": "execute_result"
    }
   ],
   "source": [
    "confusion_matrix(y_test,y_pred)#confusion matrix of SVM model with kernel=poly"
   ]
  },
  {
   "cell_type": "code",
   "execution_count": 215,
   "id": "0b0a038b",
   "metadata": {},
   "outputs": [
    {
     "data": {
      "text/plain": [
       "1.0"
      ]
     },
     "execution_count": 215,
     "metadata": {},
     "output_type": "execute_result"
    }
   ],
   "source": [
    "accuracy_score(y_test,y_pred)#accuracy of SVM model with kernel=poly"
   ]
  },
  {
   "cell_type": "markdown",
   "id": "c0434f73",
   "metadata": {},
   "source": [
    "4)Decision trees"
   ]
  },
  {
   "cell_type": "code",
   "execution_count": 216,
   "id": "391eaa63",
   "metadata": {},
   "outputs": [],
   "source": [
    "from sklearn.tree import DecisionTreeClassifier"
   ]
  },
  {
   "cell_type": "code",
   "execution_count": 217,
   "id": "1d65bfc6",
   "metadata": {},
   "outputs": [],
   "source": [
    "dt_clf= DecisionTreeClassifier(random_state=42)#random state has to be given for decision trees otherwise results changes everytime while executing"
   ]
  },
  {
   "cell_type": "code",
   "execution_count": 218,
   "id": "5ccf57dd",
   "metadata": {},
   "outputs": [],
   "source": [
    "dt_model=dt_clf.fit(x_train,y_train)#model creation"
   ]
  },
  {
   "cell_type": "code",
   "execution_count": 219,
   "id": "009343f5",
   "metadata": {},
   "outputs": [],
   "source": [
    "y_pred=dt_model.predict(x_test)# y predictions"
   ]
  },
  {
   "cell_type": "code",
   "execution_count": 220,
   "id": "6dfcf616",
   "metadata": {},
   "outputs": [
    {
     "data": {
      "text/plain": [
       "array([[15,  0,  0],\n",
       "       [ 0, 11,  0],\n",
       "       [ 0,  0, 12]], dtype=int64)"
      ]
     },
     "execution_count": 220,
     "metadata": {},
     "output_type": "execute_result"
    }
   ],
   "source": [
    "confusion_matrix(y_test,y_pred)#confusion matrix of Decision tree model"
   ]
  },
  {
   "cell_type": "code",
   "execution_count": 221,
   "id": "b41ea533",
   "metadata": {},
   "outputs": [
    {
     "data": {
      "text/plain": [
       "1.0"
      ]
     },
     "execution_count": 221,
     "metadata": {},
     "output_type": "execute_result"
    }
   ],
   "source": [
    "accuracy_score(y_test,y_pred)#accuracy of decision tree model"
   ]
  },
  {
   "cell_type": "markdown",
   "id": "5b81dc6a",
   "metadata": {},
   "source": [
    "5)Random Forest"
   ]
  },
  {
   "cell_type": "code",
   "execution_count": 222,
   "id": "54a0e57e",
   "metadata": {},
   "outputs": [],
   "source": [
    "from sklearn.ensemble import RandomForestClassifier\n"
   ]
  },
  {
   "cell_type": "code",
   "execution_count": 223,
   "id": "16f451f4",
   "metadata": {},
   "outputs": [],
   "source": [
    "rf_clf= RandomForestClassifier(random_state=42)#random state has to be given  otherwise results changes everytime while executing"
   ]
  },
  {
   "cell_type": "code",
   "execution_count": 224,
   "id": "58377836",
   "metadata": {},
   "outputs": [],
   "source": [
    "rf_model=rf_clf.fit(x_train,y_train)#model creation"
   ]
  },
  {
   "cell_type": "code",
   "execution_count": 225,
   "id": "31f4f721",
   "metadata": {},
   "outputs": [],
   "source": [
    "y_pred=rf_model.predict(x_test)#y predictions"
   ]
  },
  {
   "cell_type": "code",
   "execution_count": 226,
   "id": "28b397a9",
   "metadata": {},
   "outputs": [
    {
     "data": {
      "text/plain": [
       "array([[15,  0,  0],\n",
       "       [ 0, 11,  0],\n",
       "       [ 0,  0, 12]], dtype=int64)"
      ]
     },
     "execution_count": 226,
     "metadata": {},
     "output_type": "execute_result"
    }
   ],
   "source": [
    "confusion_matrix(y_test,y_pred)#confusion matrix of Random forest model"
   ]
  },
  {
   "cell_type": "code",
   "execution_count": 227,
   "id": "0664fb3f",
   "metadata": {},
   "outputs": [
    {
     "data": {
      "text/plain": [
       "1.0"
      ]
     },
     "execution_count": 227,
     "metadata": {},
     "output_type": "execute_result"
    }
   ],
   "source": [
    "accuracy_score(y_test,y_pred)#accuracy of Random Forest model"
   ]
  },
  {
   "cell_type": "code",
   "execution_count": null,
   "id": "fcce6aeb",
   "metadata": {},
   "outputs": [],
   "source": []
  },
  {
   "cell_type": "code",
   "execution_count": null,
   "id": "fe945a68",
   "metadata": {},
   "outputs": [],
   "source": []
  },
  {
   "cell_type": "markdown",
   "id": "a9bd17d0",
   "metadata": {},
   "source": [
    "#conclusion:-\n",
    " we get that all the models have same accuracy rate .that is 100%.so we can say that all the models are best for this data set"
   ]
  },
  {
   "cell_type": "code",
   "execution_count": null,
   "id": "237fbbc2",
   "metadata": {},
   "outputs": [],
   "source": []
  }
 ],
 "metadata": {
  "kernelspec": {
   "display_name": "Python 3 (ipykernel)",
   "language": "python",
   "name": "python3"
  },
  "language_info": {
   "codemirror_mode": {
    "name": "ipython",
    "version": 3
   },
   "file_extension": ".py",
   "mimetype": "text/x-python",
   "name": "python",
   "nbconvert_exporter": "python",
   "pygments_lexer": "ipython3",
   "version": "3.9.13"
  }
 },
 "nbformat": 4,
 "nbformat_minor": 5
}
